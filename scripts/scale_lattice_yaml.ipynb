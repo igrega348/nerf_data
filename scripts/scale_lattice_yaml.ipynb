{
 "cells": [
  {
   "cell_type": "code",
   "execution_count": 1,
   "metadata": {},
   "outputs": [],
   "source": [
    "import yaml\n",
    "import numpy as np\n",
    "from pathlib import Path"
   ]
  },
  {
   "cell_type": "code",
   "execution_count": 15,
   "metadata": {},
   "outputs": [
    {
     "name": "stdout",
     "output_type": "stream",
     "text": [
      "tessellated_obj_coll\n"
     ]
    }
   ],
   "source": [
    "uc_data = yaml.safe_load(Path('./kelvin.yaml').read_text())\n",
    "for obj in uc_data['uc']['struts']['objects']:\n",
    "    for i in range(3):\n",
    "        obj['p0'][i] = round(obj['p0'][i]*0.8, 5)\n",
    "        obj['p1'][i] = round(obj['p1'][i]*0.8, 5)\n",
    "print(uc_data['type'])"
   ]
  },
  {
   "cell_type": "code",
   "execution_count": 16,
   "metadata": {},
   "outputs": [],
   "source": [
    "data = yaml.safe_load(Path('./kelvin_w_box.yaml').read_text())\n",
    "for i in range(len(data['objects'])):\n",
    "    if data['objects'][i]['type']=='tessellated_obj_coll':\n",
    "        data['objects'][i] = uc_data"
   ]
  },
  {
   "cell_type": "code",
   "execution_count": 17,
   "metadata": {},
   "outputs": [
    {
     "data": {
      "text/plain": [
       "6669"
      ]
     },
     "execution_count": 17,
     "metadata": {},
     "output_type": "execute_result"
    }
   ],
   "source": [
    "Path('./smaller_kel_w_box.yaml').write_text(yaml.dump(data))"
   ]
  },
  {
   "cell_type": "code",
   "execution_count": null,
   "metadata": {},
   "outputs": [],
   "source": []
  }
 ],
 "metadata": {
  "kernelspec": {
   "display_name": "base",
   "language": "python",
   "name": "python3"
  },
  "language_info": {
   "codemirror_mode": {
    "name": "ipython",
    "version": 3
   },
   "file_extension": ".py",
   "mimetype": "text/x-python",
   "name": "python",
   "nbconvert_exporter": "python",
   "pygments_lexer": "ipython3",
   "version": "3.8.18"
  }
 },
 "nbformat": 4,
 "nbformat_minor": 2
}
